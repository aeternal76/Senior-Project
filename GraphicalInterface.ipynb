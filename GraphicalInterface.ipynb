{
 "cells": [
  {
   "cell_type": "code",
   "execution_count": 1,
   "metadata": {
    "jupyter": {
     "source_hidden": true
    }
   },
   "outputs": [
    {
     "data": {
      "text/html": [
       "        <script type=\"text/javascript\">\n",
       "        window.PlotlyConfig = {MathJaxConfig: 'local'};\n",
       "        if (window.MathJax) {MathJax.Hub.Config({SVG: {font: \"STIX-Web\"}});}\n",
       "        if (typeof require !== 'undefined') {\n",
       "        require.undef(\"plotly\");\n",
       "        requirejs.config({\n",
       "            paths: {\n",
       "                'plotly': ['https://cdn.plot.ly/plotly-latest.min']\n",
       "            }\n",
       "        });\n",
       "        require(['plotly'], function(Plotly) {\n",
       "            window._Plotly = Plotly;\n",
       "        });\n",
       "        }\n",
       "        </script>\n",
       "        "
      ]
     },
     "metadata": {},
     "output_type": "display_data"
    },
    {
     "data": {
      "application/vnd.jupyter.widget-view+json": {
       "model_id": "64f5984c5f1b40ab8b5b0b115c724b3e",
       "version_major": 2,
       "version_minor": 0
      },
      "text/plain": [
       "IntSlider(value=1, description='step', max=50, min=1)"
      ]
     },
     "metadata": {},
     "output_type": "display_data"
    },
    {
     "data": {
      "application/vnd.jupyter.widget-view+json": {
       "model_id": "e200aeb6419f40698efac55586b33a85",
       "version_major": 2,
       "version_minor": 0
      },
      "text/plain": [
       "interactive(children=(BoundedIntText(value=1, description='step', max=50, min=1), Output()), _dom_classes=('wi…"
      ]
     },
     "metadata": {},
     "output_type": "display_data"
    }
   ],
   "source": [
    "import plotly as py\n",
    "import plotly.graph_objects as go\n",
    "import ipywidgets as widgets\n",
    "import numpy as np\n",
    "from numpy import loadtxt\n",
    "\n",
    "py.offline.init_notebook_mode(connected=True)\n",
    "manifest = loadtxt(\"C:\\\\Users\\\\Public\\\\Documents\\\\Package Sorter\\\\manifest.txt\")\n",
    "total = manifest[0]\n",
    "\n",
    "pack_list = []\n",
    "box_num = 0\n",
    "for j in range (1, int(total)+1):\n",
    "    new = []     \n",
    "    for k in range (1,7):\n",
    "        new.append(int(manifest[(k+6*box_num)]))\n",
    "    box_num += 1\n",
    "    pack_list.append(new)\n",
    "\n",
    "\n",
    "testList = [[0, 0, 0, 20, 20, 10],\n",
    "            [2, 0, 0, 3, 5, 1],\n",
    "            [0, 0, 1, 4, 1, 2]\n",
    "           ]\n",
    "\n",
    "data=[]\n",
    "\n",
    "def call_this(step):\n",
    "    update_plot(pack_list=pack_list,step=step)\n",
    "\n",
    "# testList is a nested list of packages and dimensions\n",
    "# step is an integer optained from a widget that determines which packages to show\n",
    "def update_plot(pack_list,step):\n",
    "    data=[]\n",
    "    i=0\n",
    "    for box in pack_list:\n",
    "        i+=1\n",
    "        \n",
    "        # previous packages\n",
    "        if i<step:\n",
    "            trace=go.Surface(\n",
    "                y=[box[0]-0.01,box[0],box[0]+box[3],box[0]+box[3]+0.01],\n",
    "                x=[box[1]-0.01,box[1],box[1]+box[4],box[1]+box[4]+0.01],\n",
    "                z= [\n",
    "                    [box[2],box[2],box[2],box[2]],\n",
    "                    [box[2],box[2]+box[5],box[2]+box[5],box[2]],\n",
    "                    [box[2],box[2]+box[5],box[2]+box[5],box[2]],\n",
    "                    [box[2],box[2],box[2],box[2]]\n",
    "                   ],\n",
    "                showscale=False,\n",
    "                opacity=0.5,\n",
    "                colorscale='Greens'\n",
    "            )\n",
    "            data.append(trace)\n",
    "            \n",
    "        # current package\n",
    "        # this area is currently used for debugging\n",
    "        if i==step:\n",
    "            trace=go.Surface(\n",
    "                \n",
    "                y=[box[0]-0.01,box[0],box[0]+box[3],box[0]+box[3]+0.01],\n",
    "                x=[box[1]-0.01,box[1],box[1]+box[4],box[1]+box[4]+0.01],\n",
    "                z= [\n",
    "                    [box[2],box[2],box[2],box[2]],\n",
    "                    [box[2],box[2]+box[5],box[2]+box[5],box[2]],\n",
    "                    [box[2],box[2]+box[5],box[2]+box[5],box[2]],\n",
    "                    [box[2],box[2],box[2],box[2]]\n",
    "                   ],\n",
    "                opacity=1.0,\n",
    "                colorscale='OrRd'\n",
    "            )\n",
    "            data.append(trace)\n",
    "            fig = go.Figure(data=data)\n",
    "            fig.update_layout(\n",
    "                scene = dict(\n",
    "                    xaxis = dict(range=[-0.05,200],),\n",
    "                         yaxis = dict(range=[-0.05,100],),\n",
    "                         zaxis = dict(range=[0,100],),),\n",
    "                scene_aspectmode='manual',\n",
    "                scene_aspectratio=dict(x=2, y=1, z=1),\n",
    "                height=700\n",
    "            )\n",
    "            camera = dict(\n",
    "                eye=dict(x=2.5, y=0, z=0.5),\n",
    "                center=dict(x=0, y=0, z=-0.5)\n",
    "            )\n",
    "            fig.update_layout(scene_camera=camera)\n",
    "            py.offline.iplot(fig)\n",
    "            \n",
    "            \n",
    "fig = go.Figure(data=data)\n",
    "\n",
    "\n",
    "step = widgets.BoundedIntText(min=1, max=len(pack_list),value=1,description='step')\n",
    "Trial1 = widgets.IntSlider(min=1, max=len(pack_list),value=1,description='step')\n",
    "display(Trial1)\n",
    "mylink = widgets.jslink((step, 'value'), (Trial1, 'value'))\n",
    "widgets.interactive(call_this, step=step)\n"
   ]
  },
  {
   "cell_type": "code",
   "execution_count": null,
   "metadata": {},
   "outputs": [],
   "source": []
  },
  {
   "cell_type": "code",
   "execution_count": null,
   "metadata": {},
   "outputs": [],
   "source": []
  },
  {
   "cell_type": "code",
   "execution_count": null,
   "metadata": {},
   "outputs": [],
   "source": []
  }
 ],
 "metadata": {
  "kernelspec": {
   "display_name": "Python 3",
   "language": "python",
   "name": "python3"
  },
  "language_info": {
   "codemirror_mode": {
    "name": "ipython",
    "version": 3
   },
   "file_extension": ".py",
   "mimetype": "text/x-python",
   "name": "python",
   "nbconvert_exporter": "python",
   "pygments_lexer": "ipython3",
   "version": "3.8.3"
  }
 },
 "nbformat": 4,
 "nbformat_minor": 4
}
